{
 "cells": [
  {
   "cell_type": "markdown",
   "metadata": {},
   "source": [
    "# The Question"
   ]
  },
  {
   "cell_type": "markdown",
   "metadata": {},
   "source": [
    "You are given the following information, but you may prefer to do some research for yourself.\n",
    "\n",
    "1 Jan 1900 was a Monday.\n",
    "Thirty days has September,\n",
    "April, June and November.\n",
    "All the rest have thirty-one,\n",
    "Saving February alone,\n",
    "Which has twenty-eight, rain or shine.\n",
    "And on leap years, twenty-nine.\n",
    "A leap year occurs on any year evenly divisible by 4, but not on a century unless it is divisible by 400.\n",
    "\n",
    "How many Sundays fell on the first of the month during the twentieth century (1 Jan 1901 to 31 Dec 2000)?"
   ]
  },
  {
   "cell_type": "markdown",
   "metadata": {},
   "source": [
    "# Solution  "
   ]
  },
  {
   "cell_type": "markdown",
   "metadata": {},
   "source": [
    "## Approach\n",
    "\n",
    "    1) Estimate the solution arithmetically\n",
    "    \n",
    "    2) Calculate an exact solution algerythmically and check that it agrees with the estimate  "
   ]
  },
  {
   "cell_type": "markdown",
   "metadata": {},
   "source": [
    "## Estimate"
   ]
  },
  {
   "cell_type": "code",
   "execution_count": 80,
   "metadata": {},
   "outputs": [
    {
     "data": {
      "text/plain": [
       "171.42857142857142"
      ]
     },
     "execution_count": 80,
     "metadata": {},
     "output_type": "execute_result"
    }
   ],
   "source": [
    "(12 * 100) / 7 #There are 100 years in a century, and 12 months in a year about one seventh of which begin on a Sunday"
   ]
  },
  {
   "cell_type": "markdown",
   "metadata": {},
   "source": [
    "We would expect there to be about 171 Sundays falling on the first of a month per century. "
   ]
  },
  {
   "cell_type": "markdown",
   "metadata": {},
   "source": [
    "## Exact Solution\n",
    "\n",
    "Calculate an exact solution by iterating through a python, pandas, daterange object counting Sundays that fall on the first of the month."
   ]
  },
  {
   "cell_type": "code",
   "execution_count": 76,
   "metadata": {},
   "outputs": [],
   "source": [
    "import pandas as pd"
   ]
  },
  {
   "cell_type": "code",
   "execution_count": 77,
   "metadata": {},
   "outputs": [],
   "source": [
    "start = dt.date(1901, 1,1)                             # inclusive start date\n",
    "end = dt.date(2001, 1, 1)                              # exclusive end date\n",
    "twentieth_century = pd.date_range(start, end)"
   ]
  },
  {
   "cell_type": "code",
   "execution_count": 78,
   "metadata": {},
   "outputs": [
    {
     "name": "stdout",
     "output_type": "stream",
     "text": [
      "DatetimeIndex(['1901-01-01', '1901-01-02', '1901-01-03', '1901-01-04',\n",
      "               '1901-01-05', '1901-01-06', '1901-01-07', '1901-01-08',\n",
      "               '1901-01-09', '1901-01-10',\n",
      "               ...\n",
      "               '2000-12-23', '2000-12-24', '2000-12-25', '2000-12-26',\n",
      "               '2000-12-27', '2000-12-28', '2000-12-29', '2000-12-30',\n",
      "               '2000-12-31', '2001-01-01'],\n",
      "              dtype='datetime64[ns]', length=36526, freq='D')\n"
     ]
    }
   ],
   "source": [
    "print(twentieth_century)"
   ]
  },
  {
   "cell_type": "code",
   "execution_count": 79,
   "metadata": {},
   "outputs": [
    {
     "name": "stdout",
     "output_type": "stream",
     "text": [
      "171\n"
     ]
    }
   ],
   "source": [
    "sunday_count = 0\n",
    "for single_day in twentieth_century:\n",
    "    if single_day.weekday() == 6 and single_day.day == 1:\n",
    "        sunday_count += 1\n",
    "print(sunday_count)"
   ]
  },
  {
   "cell_type": "markdown",
   "metadata": {},
   "source": [
    "# Conclusion\n",
    "\n",
    "One hundred seventy-one Sundays fell on the first of the month during the 20th century. This agrees with the estimate. "
   ]
  }
 ],
 "metadata": {
  "kernelspec": {
   "display_name": "Python 3",
   "language": "python",
   "name": "python3"
  },
  "language_info": {
   "codemirror_mode": {
    "name": "ipython",
    "version": 3
   },
   "file_extension": ".py",
   "mimetype": "text/x-python",
   "name": "python",
   "nbconvert_exporter": "python",
   "pygments_lexer": "ipython3",
   "version": "3.7.3"
  }
 },
 "nbformat": 4,
 "nbformat_minor": 2
}
